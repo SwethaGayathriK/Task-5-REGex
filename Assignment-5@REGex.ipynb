{
 "cells": [
  {
   "cell_type": "markdown",
   "id": "27491a56",
   "metadata": {},
   "source": [
    "#Task 5"
   ]
  },
  {
   "cell_type": "markdown",
   "id": "dd7425fc",
   "metadata": {},
   "source": [
    "Referral Id: AIRSS1200"
   ]
  },
  {
   "cell_type": "markdown",
   "id": "8846e407",
   "metadata": {},
   "source": [
    "Swetha Gayathri Kuchimanchi"
   ]
  },
  {
   "cell_type": "markdown",
   "id": "ecc3e881",
   "metadata": {},
   "source": [
    "Q1.Given a list of integers, write a function to return the sum of all prime numbers in that\n",
    "list."
   ]
  },
  {
   "cell_type": "code",
   "execution_count": 3,
   "id": "c536e660",
   "metadata": {},
   "outputs": [
    {
     "name": "stdout",
     "output_type": "stream",
     "text": [
      "3 4 5 6 7 8\n",
      "15\n"
     ]
    }
   ],
   "source": [
    "List=input(\"\").split(' ')\n",
    "sum=0\n",
    "for number in List:\n",
    "    number=int(number)\n",
    "    is_prime=True\n",
    "    if number > 1:\n",
    "        for i in range(2, number):\n",
    "            if (number % i) == 0:\n",
    "                is_prime=False\n",
    "                break\n",
    "        if is_prime:\n",
    "            sum=sum+number\n",
    "\n",
    "print(str(sum))\n"
   ]
  },
  {
   "cell_type": "markdown",
   "id": "7903fc6a",
   "metadata": {},
   "source": [
    "Q2. Given a list of integers, write a function to check whether the list is strictly increasing or\n",
    "not."
   ]
  },
  {
   "cell_type": "code",
   "execution_count": 6,
   "id": "1ffa2b10",
   "metadata": {},
   "outputs": [
    {
     "name": "stdout",
     "output_type": "stream",
     "text": [
      "[1, 4, 5, 7, 8, 10]\n",
      "Yes, The list is strictly increasing \n"
     ]
    }
   ],
   "source": [
    "list = input(\"\")\n",
    "res = all(i < j for i, j in zip(list, list[1:]))\n",
    "print (\"Yes, The list is strictly increasing \")\n"
   ]
  },
  {
   "cell_type": "markdown",
   "id": "9c40d3d6",
   "metadata": {},
   "source": [
    "Q3. Write a function to check whether a given list is expanding or not (the difference\n",
    "between adjacent elements should keep on increasing)."
   ]
  },
  {
   "cell_type": "code",
   "execution_count": 34,
   "id": "291b5901",
   "metadata": {},
   "outputs": [
    {
     "data": {
      "text/plain": [
       "True"
      ]
     },
     "execution_count": 34,
     "metadata": {},
     "output_type": "execute_result"
    }
   ],
   "source": [
    "def expanding(l):\n",
    "    for i in range(0,len(l)-2):\n",
    "        if (abs(l[i+2]-l[i+1])>abs(l[i+1]-l[i])): \n",
    "            Answer=True\n",
    "        else:\n",
    "            Answer=False\n",
    "            return Answer\n",
    "        return Answer\n",
    "\n",
    "expanding([1,3,7,2,9])"
   ]
  },
  {
   "cell_type": "markdown",
   "id": "db3fc8be",
   "metadata": {},
   "source": [
    "Q4. Write a function to calculate all permutations of a given string. (Without using itertools)"
   ]
  },
  {
   "cell_type": "code",
   "execution_count": 36,
   "id": "ed3b01c9",
   "metadata": {},
   "outputs": [
    {
     "name": "stdout",
     "output_type": "stream",
     "text": [
      "['ABC', 'BAC', 'BCA', 'ACB', 'CAB', 'CBA']\n"
     ]
    }
   ],
   "source": [
    "def permute_string(str):\n",
    "    if len(str) == 0:\n",
    "        return ['']\n",
    "    prev_list = permute_string(str[1:len(str)])\n",
    "    next_list = []\n",
    "    for i in range(0,len(prev_list)):\n",
    "        for j in range(0,len(str)):\n",
    "            new_str = prev_list[i][0:j]+str[0]+prev_list[i][j:len(str)-1]\n",
    "            if new_str not in next_list:\n",
    "                next_list.append(new_str)\n",
    "    return next_list\n",
    "\n",
    "print(permute_string('ABC'));"
   ]
  }
 ],
 "metadata": {
  "kernelspec": {
   "display_name": "Python 3 (ipykernel)",
   "language": "python",
   "name": "python3"
  },
  "language_info": {
   "codemirror_mode": {
    "name": "ipython",
    "version": 3
   },
   "file_extension": ".py",
   "mimetype": "text/x-python",
   "name": "python",
   "nbconvert_exporter": "python",
   "pygments_lexer": "ipython3",
   "version": "3.9.5"
  }
 },
 "nbformat": 4,
 "nbformat_minor": 5
}
